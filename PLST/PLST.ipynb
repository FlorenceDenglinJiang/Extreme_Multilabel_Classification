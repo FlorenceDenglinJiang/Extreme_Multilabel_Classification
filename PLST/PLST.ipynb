{
 "cells": [
  {
   "cell_type": "code",
   "execution_count": 2,
   "metadata": {},
   "outputs": [],
   "source": [
    "import skmultilearn\n",
    "import numpy as np\n",
    "import pandas as pd\n",
    "from util import label_anomoly, feature_transform, label_transform\n",
    "from time import time\n",
    "from sklearn.tree import DecisionTreeRegressor\n",
    "from sklearn.metrics import label_ranking_average_precision_score as LARP"
   ]
  },
  {
   "cell_type": "code",
   "execution_count": 3,
   "metadata": {},
   "outputs": [],
   "source": [
    "train_set = pd.read_csv('dataset/train.csv')"
   ]
  },
  {
   "cell_type": "code",
   "execution_count": 4,
   "metadata": {},
   "outputs": [],
   "source": [
    "test_set = pd.read_csv('dataset/dev.csv')"
   ]
  },
  {
   "cell_type": "code",
   "execution_count": 5,
   "metadata": {},
   "outputs": [],
   "source": [
    "train_lab_anomoly = label_anomoly(train_set['labels'])"
   ]
  },
  {
   "cell_type": "code",
   "execution_count": 6,
   "metadata": {},
   "outputs": [
    {
     "name": "stdout",
     "output_type": "stream",
     "text": [
      "Anomoly label indexes below\n",
      "93 252 509 1527 1939 1953 4029 4426 4643 4727 5231 5762 6295 6333 6703 7083 9477 9675 9999 10488 10736 10910 11674 12280 12599 13147 14167 14722\n"
     ]
    }
   ],
   "source": [
    "print('Anomoly label indexes below')\n",
    "print(' '.join(str(i) for i in train_lab_anomoly))"
   ]
  },
  {
   "cell_type": "code",
   "execution_count": 7,
   "metadata": {},
   "outputs": [
    {
     "data": {
      "text/plain": [
       "[]"
      ]
     },
     "execution_count": 7,
     "metadata": {},
     "output_type": "execute_result"
    }
   ],
   "source": [
    "# delete train_set rows with anomoly labels\n",
    "train_set = train_set.drop(train_lab_anomoly)\n",
    "# reindex\n",
    "train_set = train_set.reindex([i for i in range(len(train_set))])\n",
    "label_anomoly(train_set)"
   ]
  },
  {
   "cell_type": "code",
   "execution_count": 8,
   "metadata": {},
   "outputs": [],
   "source": [
    "train_feature = feature_transform(train_set['features'], 5000)\n",
    "train_label_dict = label_transform(train_set['labels'])"
   ]
  },
  {
   "cell_type": "code",
   "execution_count": 9,
   "metadata": {},
   "outputs": [],
   "source": [
    "# label matrix \n",
    "train_label = np.zeros((len(train_feature),3993))\n",
    "for key in train_label_dict:\n",
    "    for idx in train_label_dict[key]:\n",
    "        train_label[idx][key] = 1"
   ]
  },
  {
   "cell_type": "code",
   "execution_count": 10,
   "metadata": {},
   "outputs": [
    {
     "data": {
      "text/plain": [
       "(15511, 5000)"
      ]
     },
     "execution_count": 10,
     "metadata": {},
     "output_type": "execute_result"
    }
   ],
   "source": [
    "train_feature.shape"
   ]
  },
  {
   "cell_type": "code",
   "execution_count": 11,
   "metadata": {},
   "outputs": [
    {
     "name": "stdout",
     "output_type": "stream",
     "text": [
      "Anomoly label indexes below\n",
      "193 414\n"
     ]
    }
   ],
   "source": [
    "# clean test data \n",
    "test_lab_anomoly = label_anomoly(test_set['labels'])\n",
    "print('Anomoly label indexes below')\n",
    "print(' '.join(str(i) for i in test_lab_anomoly))\n",
    "test_set = test_set.drop(test_lab_anomoly)\n",
    "test_set = test_set.reindex([i for i in range(len(test_set))])\n",
    "label_anomoly(test_set)\n",
    "\n",
    "# test data transformation \n",
    "test_feature = feature_transform(test_set['features'], 5000)\n",
    "test_label = label_transform(test_set['labels'])\n",
    "\n",
    "# ground_truth label \n",
    "test_truth = np.zeros((len(test_feature),3993))\n",
    "for key in test_label:\n",
    "    for idx in test_label[key]:\n",
    "        test_truth[idx][key] = 1"
   ]
  },
  {
   "cell_type": "code",
   "execution_count": 11,
   "metadata": {},
   "outputs": [],
   "source": [
    "import numpy as np\n",
    "from numpy import linalg as la\n",
    "from sklearn.linear_model import Ridge\n",
    "from sklearn.preprocessing import minmax_scale\n",
    "\n",
    "class PLST():\n",
    "    def __init__(self, m, alpha=0.1):\n",
    "        '''init\n",
    "\n",
    "         Parameters\n",
    "        ----------\n",
    "        m:      label space compressed dimension, less than label number\n",
    "        alpha:  linear regression regular coefficient\n",
    "        '''\n",
    "        self.m = m\n",
    "        self.alpha = alpha\n",
    "        self.models = []\n",
    "\n",
    "    def fit(self, X, y):\n",
    "        '''fit model\n",
    "\n",
    "         Parameters\n",
    "        ----------\n",
    "        X:  numpy.ndarray\n",
    "            train input feature\n",
    "        y:  numpy.ndarray {0,1}\n",
    "            train output\n",
    "        '''\n",
    "        y_new = np.copy(y)\n",
    "        y_new[y_new == 0] = -1\n",
    "        z, self.Um = self.encode(y_new)\n",
    "        new_X = np.c_[np.ones(X.shape[0]), X]\n",
    "        # regress x on z \n",
    "        z = z.T\n",
    "        for i in range(len(z)):\n",
    "            current_y = z[i]\n",
    "            #print(current_y)\n",
    "            #print(current_y.shape)\n",
    "            linear_regress = Ridge()\n",
    "            linear_regress.fit(new_X,current_y)\n",
    "            self.models += [linear_regress]\n",
    "        print('train complete')\n",
    "        return self\n",
    "\n",
    "    def encode(self, y):\n",
    "        '''encode y use svd\n",
    "\n",
    "         Parameters\n",
    "        ----------\n",
    "        y:  numpy.ndarray {0,1}\n",
    "            train output of shape :code:`(n_samples, n_target)`\n",
    "\n",
    "        Returns\n",
    "        -------\n",
    "        z:      numpy.ndarray\n",
    "                dimensionality reduction matrix of y shape :code:`(n_samples, m)`\n",
    "        Vm:     numpy.ndarray\n",
    "                top mright singular matrix after svd shape :code:`(n_features, m)`\n",
    "        shift:  numpy.ndarray\n",
    "                mean of y by col shape :code:`(1, n_features)`\n",
    "        '''\n",
    "        y = y.T\n",
    "        #shift = np.mean(y, axis=0)\n",
    "        #y_shift = y - shift\n",
    "        U, var, _= la.svd(y)\n",
    "        # u is shape n_sample * m\n",
    "        this_var = sum(var[i] for i in range(self.m))\n",
    "        print('variance accounted for m = {} is {}'.format(self.m,this_var/ sum(var)))\n",
    "        Um = U[:,0:self.m]\n",
    "        #print(y_shift)\n",
    "        #print(Vm)\n",
    "        y = y.T\n",
    "        z = np.dot(y,Um)\n",
    "        return z, Um\n",
    "\n",
    "    def predict(self, X):\n",
    "        '''encode y use svd\n",
    "\n",
    "        Parameters\n",
    "       ----------\n",
    "       X:   numpy.ndarray\n",
    "            train input feature :code:`(n_samples, n_features)`\n",
    "\n",
    "       Returns\n",
    "       -------\n",
    "       y_pred:      numpy.ndarray {0, 1}\n",
    "                    predict of y shape :code:`(n_samples, n_traget)`\n",
    "       y_pred_prob: numpy.ndarray [0, 1]\n",
    "                    predict probility of y  shape :code:`(n_features, n_traget)`\n",
    "        '''\n",
    "        \n",
    "        new_X = np.c_[np.ones(X.shape[0]), X]\n",
    "        result = np.zeros((X.shape[0],self.Um.shape[0]))\n",
    "        for idx, x in enumerate(new_X):\n",
    "            this_result = np.zeros(self.Um.shape[0])\n",
    "            for i,model in enumerate(self.models):\n",
    "                Um = self.Um.T\n",
    "                current_U = Um[i]\n",
    "                pred = model.predict(x.reshape(1,-1))\n",
    "                this_result += pred * current_U\n",
    "            result[idx] = this_result\n",
    "            \n",
    "        y_pred_prob = minmax_scale(result, axis=1)\n",
    "        y_pred = np.zeros(result.shape)\n",
    "        y_pred[result > 0] = 1\n",
    "        y_pred[result <= 0] = 0\n",
    "        \n",
    "        '''\n",
    "        z_pred = self.w * np.c_(np.ones(X.shape(0)), X)\n",
    "        y_real = z_pred * self.Vm.T + self.shift\n",
    "        y_pred = np.zeros(y_real.shape)\n",
    "        y_pred[y_real > 0] = 1\n",
    "        y_pred[y_real <= 0] = 0\n",
    "        y_pred_prob = minmax_scale(y_real, axis=1)\n",
    "        '''\n",
    "        return y_pred, y_pred_prob\n",
    "\n"
   ]
  },
  {
   "cell_type": "code",
   "execution_count": 18,
   "metadata": {
    "scrolled": false
   },
   "outputs": [
    {
     "name": "stdout",
     "output_type": "stream",
     "text": [
      "variance accounted for m = 10 is 0.2628339564754551\n",
      "train complete\n",
      "train time for m = 10 is 295.0827462673187\n",
      "predict time 2.2367608547210693\n",
      "accuracy for test set is 0.15129850982623216\n",
      "variance accounted for m = 1500 is 0.8038219009352727\n",
      "train complete\n",
      "train time for m = 1500 is 13828.745360136032\n",
      "predict time 196.4737401008606\n",
      "accuracy for test set is 0.49648710470553004\n",
      "variance accounted for m = 2000 is 0.8748395188364513\n",
      "train complete\n",
      "train time for m = 2000 is 20633.943397045135\n",
      "predict time 340.26476287841797\n",
      "accuracy for test set is 0.5028034295556337\n"
     ]
    }
   ],
   "source": [
    "ms = [10,1500,2000]\n",
    "for m in ms:\n",
    "    st_train = time()\n",
    "    clf = PLST(m = m)\n",
    "    clf.fit(train_feature,train_label)\n",
    "    print('train time for m = {} is {}'.format(m,time()-st_train))\n",
    "    st = time()\n",
    "    res,res_prob = clf.predict(test_feature)\n",
    "    print('predict time {}'.format(time() - st))\n",
    "    \n",
    "    print('accuracy for test set is {}'.format(LARP(test_truth,res_prob)))\n",
    "    "
   ]
  },
  {
   "cell_type": "code",
   "execution_count": 12,
   "metadata": {},
   "outputs": [],
   "source": [
    "import numpy as np\n",
    "from numpy import linalg as la\n",
    "from sklearn.linear_model import Ridge\n",
    "from sklearn.preprocessing import minmax_scale\n",
    "\n",
    "class PLST_tree():\n",
    "    def __init__(self, m, alpha=0.1):\n",
    "        '''init\n",
    "\n",
    "         Parameters\n",
    "        ----------\n",
    "        m:      label space compressed dimension, less than label number\n",
    "        alpha:  linear regression regular coefficient\n",
    "        '''\n",
    "        self.m = m\n",
    "        self.alpha = alpha\n",
    "        self.models = []\n",
    "\n",
    "    def fit(self, X, y):\n",
    "        '''fit model\n",
    "\n",
    "         Parameters\n",
    "        ----------\n",
    "        X:  numpy.ndarray\n",
    "            train input feature\n",
    "        y:  numpy.ndarray {0,1}\n",
    "            train output\n",
    "        '''\n",
    "        y_new = np.copy(y)\n",
    "        y_new[y_new == 0] = -1\n",
    "        z, self.Um = self.encode(y_new)\n",
    "        new_X = np.c_[np.ones(X.shape[0]), X]\n",
    "        # regress x on z \n",
    "        z = z.T\n",
    "        for i in range(len(z)):\n",
    "            current_y = z[i]\n",
    "            #print(current_y)\n",
    "            #print(current_y.shape)\n",
    "            tree_regress = DecisionTreeRegressor()\n",
    "            tree_regress.fit(new_X,current_y)\n",
    "            self.models += [tree_regress]\n",
    "        print('train complete')\n",
    "        return self\n",
    "\n",
    "    def encode(self, y):\n",
    "        '''encode y use svd\n",
    "\n",
    "         Parameters\n",
    "        ----------\n",
    "        y:  numpy.ndarray {0,1}\n",
    "            train output of shape :code:`(n_samples, n_target)`\n",
    "\n",
    "        Returns\n",
    "        -------\n",
    "        z:      numpy.ndarray\n",
    "                dimensionality reduction matrix of y shape :code:`(n_samples, m)`\n",
    "        Vm:     numpy.ndarray\n",
    "                top mright singular matrix after svd shape :code:`(n_features, m)`\n",
    "        shift:  numpy.ndarray\n",
    "                mean of y by col shape :code:`(1, n_features)`\n",
    "        '''\n",
    "        y = y.T\n",
    "        #shift = np.mean(y, axis=0)\n",
    "        #y_shift = y - shift\n",
    "        U, var, _= la.svd(y)\n",
    "        # u is shape n_sample * m\n",
    "        this_var = sum(var[i] for i in range(self.m))\n",
    "        print('variance accounted for m = {} is {}'.format(self.m,this_var/ sum(var)))\n",
    "        Um = U[:,0:self.m]\n",
    "        #print(y_shift)\n",
    "        #print(Vm)\n",
    "        y = y.T\n",
    "        z = np.dot(y,Um)\n",
    "        return z, Um\n",
    "\n",
    "    def predict(self, X):\n",
    "        '''encode y use svd\n",
    "\n",
    "        Parameters\n",
    "       ----------\n",
    "       X:   numpy.ndarray\n",
    "            train input feature :code:`(n_samples, n_features)`\n",
    "\n",
    "       Returns\n",
    "       -------\n",
    "       y_pred:      numpy.ndarray {0, 1}\n",
    "                    predict of y shape :code:`(n_samples, n_traget)`\n",
    "       y_pred_prob: numpy.ndarray [0, 1]\n",
    "                    predict probility of y  shape :code:`(n_features, n_traget)`\n",
    "        '''\n",
    "        \n",
    "        new_X = np.c_[np.ones(X.shape[0]), X]\n",
    "        result = np.zeros((X.shape[0],self.Um.shape[0]))\n",
    "        for idx, x in enumerate(new_X):\n",
    "            this_result = np.zeros(self.Um.shape[0])\n",
    "            for i,model in enumerate(self.models):\n",
    "                Um = self.Um.T\n",
    "                current_U = Um[i]\n",
    "                pred = model.predict(x.reshape(1,-1))\n",
    "                this_result += pred * current_U\n",
    "            result[idx] = this_result\n",
    "            \n",
    "        y_pred_prob = minmax_scale(result, axis=1)\n",
    "        y_pred = np.zeros(result.shape)\n",
    "        y_pred[result > 0] = 1\n",
    "        y_pred[result <= 0] = 0\n",
    "        \n",
    "        '''\n",
    "        z_pred = self.w * np.c_(np.ones(X.shape(0)), X)\n",
    "        y_real = z_pred * self.Vm.T + self.shift\n",
    "        y_pred = np.zeros(y_real.shape)\n",
    "        y_pred[y_real > 0] = 1\n",
    "        y_pred[y_real <= 0] = 0\n",
    "        y_pred_prob = minmax_scale(y_real, axis=1)\n",
    "        '''\n",
    "        return y_pred, y_pred_prob\n",
    "\n"
   ]
  },
  {
   "cell_type": "code",
   "execution_count": 21,
   "metadata": {},
   "outputs": [
    {
     "name": "stdout",
     "output_type": "stream",
     "text": [
      "variance accounted for m = 10 is 0.2628339564754551\n",
      "train complete\n",
      "train time for m = 10 is 472.3658459186554\n",
      "predict time 1.4657750129699707\n",
      "accuracy for test set is 0.1586367620998991\n",
      "variance accounted for m = 50 is 0.31016787702420723\n",
      "train complete\n",
      "train time for m = 50 is 2304.288167953491\n",
      "predict time 6.4213879108428955\n",
      "accuracy for test set is 0.27484142496045905\n",
      "variance accounted for m = 100 is 0.3544222940323518\n",
      "train complete\n",
      "train time for m = 100 is 5381.154091835022\n",
      "predict time 12.86738395690918\n",
      "accuracy for test set is 0.3391016102630934\n"
     ]
    }
   ],
   "source": [
    "ms = [10,50,100]\n",
    "for m in ms:\n",
    "    st_train = time()\n",
    "    clf = PLST_tree(m = m)\n",
    "    clf.fit(train_feature,train_label)\n",
    "    print('train time for m = {} is {}'.format(m,time()-st_train))\n",
    "    st = time()\n",
    "    res,res_prob = clf.predict(test_feature)\n",
    "    print('predict time {}'.format(time() - st))\n",
    "    \n",
    "    print('accuracy for test set is {}'.format(LARP(test_truth,res_prob)))\n",
    "    "
   ]
  }
 ],
 "metadata": {
  "kernelspec": {
   "display_name": "Python 3",
   "language": "python",
   "name": "python3"
  },
  "language_info": {
   "codemirror_mode": {
    "name": "ipython",
    "version": 3
   },
   "file_extension": ".py",
   "mimetype": "text/x-python",
   "name": "python",
   "nbconvert_exporter": "python",
   "pygments_lexer": "ipython3",
   "version": "3.7.4"
  }
 },
 "nbformat": 4,
 "nbformat_minor": 2
}
